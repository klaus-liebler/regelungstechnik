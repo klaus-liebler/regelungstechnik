{
 "cells": [
  {
   "attachments": {},
   "cell_type": "markdown",
   "metadata": {},
   "source": [
    "# Sprungantwort einer PTn-Strecke"
   ]
  },
  {
   "cell_type": "code",
   "execution_count": 32,
   "metadata": {},
   "outputs": [
    {
     "data": {
      "application/vnd.jupyter.widget-view+json": {
       "model_id": "14660e920f22434aa43cf7284e3fdd23",
       "version_major": 2,
       "version_minor": 0
      },
      "text/plain": [
       "interactive(children=(IntSlider(value=2, description='T1', max=10, min=1), IntSlider(value=3, description='T2'…"
      ]
     },
     "metadata": {},
     "output_type": "display_data"
    }
   ],
   "source": [
    "\n",
    "import matplotlib.pyplot as plt\n",
    "from ipywidgets import interact, interactive, fixed, interact_manual\n",
    "import ipywidgets as w\n",
    "import numpy as np\n",
    "import scipy as sc\n",
    "import control\n",
    "\n",
    "from matplotlib.ticker import (AutoMinorLocator, MultipleLocator)\n",
    "\n",
    "# animate plolspace?\n",
    "animate=True # True / False\n",
    "\n",
    "K=1\n",
    "response=([],[])\n",
    "\n",
    "@interact(T1=(1, 10), T2=(1, 10), T3=(1, 10), U_SPRUNG=(-3,3,0.1), T_FINAL=(20,100,5), U_START=(2,20,1), K_PS=(1, 3, 0.1))\n",
    "def f(T1=2, T2=3, T3=5, T_SPRUNG=3, U_SPRUNG=2,  T_FINAL=40, U_START=10, K_PS=2):\n",
    "    global response\n",
    "    den=np.polymul(np.polymul([T1, 1], [T2, 1]), [T3, 1])\n",
    "    T_vec=np.arange(0, T_FINAL, 0.1)\n",
    "    U_vec=[0,]*10*T_SPRUNG + [U_SPRUNG,]*((T_FINAL-T_SPRUNG)*10)\n",
    "    plant = control.TransferFunction([K_PS], den)\n",
    "    response = control.forced_response(plant, T_vec, U_vec)\n",
    "    response.y=response.y+U_START\n",
    "    #und jetzt wird geplottet\n",
    "    fig, ax = plt.subplots(figsize=(10 , 5))\n",
    "\n",
    "    ax.plot(response[0], response[1])\n",
    "    ax.xaxis.set_major_locator(MultipleLocator(1))\n",
    "    ax.yaxis.set_major_locator(MultipleLocator(1))\n",
    "    ax.set_ylim([U_START-2, U_START+(K_PS*U_SPRUNG)+2])\n",
    "    ax.set_xlim(T_SPRUNG-2, T_FINAL)\n",
    "    \n",
    "    ax.xaxis.set_minor_locator(AutoMinorLocator(2))\n",
    "    ax.yaxis.set_minor_locator(AutoMinorLocator(5))\n",
    "    ax.grid(which='major', color='#DDDDDD')\n",
    "    ax.grid(which='minor', color='#EEEEEE', linestyle=':')\n",
    "\n",
    "    plt.show()\n",
    "    return;\n"
   ]
  },
  {
   "cell_type": "code",
   "execution_count": 47,
   "metadata": {},
   "outputs": [
    {
     "data": {
      "application/vnd.jupyter.widget-view+json": {
       "model_id": "2d135b17a9b443c083d9fc2c45bac53a",
       "version_major": 2,
       "version_minor": 0
      },
      "text/plain": [
       "Button(description='Export to Excel', style=ButtonStyle())"
      ]
     },
     "metadata": {},
     "output_type": "display_data"
    }
   ],
   "source": [
    "import openpyxl as xls\n",
    "import os\n",
    "def btnExport_on_click(b):\n",
    "       wb = xls.Workbook()\n",
    "btnExport = w.Button(description='Export to Excel')\n",
    "btnExport.on_click(btnExport_on_click)\n",
    "display(btnExport)\n",
    "\n",
    "wb = xls.Workbook()\n",
    "ws = wb.active\n",
    "ws.append([\"Time\", \"Response\"])\n",
    "for i in range(len(response.t)):\n",
    "       ws.append([response.t[i], response.y[0][i]])\n",
    "chart = xls.chart.ScatterChart()\n",
    "chart.style = 2\n",
    "chart.x_axis.title = 'Zeit [s]'\n",
    "chart.y_axis.title = 'y [1]'\n",
    "xvalues = xls.chart.Reference(ws, min_col=1, min_row=2, max_row=1+len(response.t))\n",
    "values  = xls.chart.Reference(ws, min_col=2, min_row=1, max_row=1+len(response.t))\n",
    "series = xls.chart.Series(values, xvalues, title_from_data=True)\n",
    "chart.series.append(series)\n",
    "\n",
    "minorGridlines = xls.chart.shapes.GraphicalProperties() \n",
    "minorGridlines.line.solidFill='0070C0'\n",
    "minorGridlines.line.dashStyle=\"dash\"\n",
    "\n",
    "chart.x_axis.scaling.min = 0\n",
    "chart.x_axis.scaling.max = max(response.t)\n",
    "chart.y_axis.scaling.min = min(response.y[0])-2\n",
    "chart.y_axis.scaling.max = max(response.y[0])+2\n",
    "\n",
    "chart.x_axis.majorUnit=5\n",
    "chart.x_axis.majorTickMark='out'\n",
    "\n",
    "chart.x_axis.minorUnit=1\n",
    "chart.x_axis.minorTickMark='in'\n",
    "chart.x_axis.minorGridlines=xls.chart.axis.ChartLines(spPr=minorGridlines)\n",
    "\n",
    "\n",
    "chart.y_axis.majorUnit=5\n",
    "chart.y_axis.minorUnit=1\n",
    "chart.y_axis.minorGridlines=xls.chart.axis.ChartLines(spPr=minorGridlines)\n",
    "\n",
    "chart.title = \"\"\n",
    "ws.add_chart(chart, \"D1\")\n",
    "wb.save(\"sprungantwort.xlsx\")"
   ]
  }
 ],
 "metadata": {
  "kernelspec": {
   "display_name": "Python 3 (ipykernel)",
   "language": "python",
   "name": "python3"
  },
  "language_info": {
   "codemirror_mode": {
    "name": "ipython",
    "version": 3
   },
   "file_extension": ".py",
   "mimetype": "text/x-python",
   "name": "python",
   "nbconvert_exporter": "python",
   "pygments_lexer": "ipython3",
   "version": "3.10.6"
  },
  "vscode": {
   "interpreter": {
    "hash": "369f2c481f4da34e4445cda3fffd2e751bd1c4d706f27375911949ba6bb62e1c"
   }
  }
 },
 "nbformat": 4,
 "nbformat_minor": 4
}
