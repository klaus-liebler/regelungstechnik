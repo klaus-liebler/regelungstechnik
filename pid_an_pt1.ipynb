{
 "cells": [
  {
   "attachments": {},
   "cell_type": "markdown",
   "metadata": {},
   "source": [
    "# PID-Regler an PT1-Strecke"
   ]
  },
  {
   "cell_type": "code",
   "execution_count": 4,
   "metadata": {},
   "outputs": [
    {
     "data": {
      "application/vnd.jupyter.widget-view+json": {
       "model_id": "5727a24fab854449a0a437a26c154488",
       "version_major": 2,
       "version_minor": 0
      },
      "text/plain": [
       "interactive(children=(FloatSlider(value=1.0, description='K_PR', max=2.5, min=0.1), FloatSlider(value=0.66, de…"
      ]
     },
     "metadata": {},
     "output_type": "display_data"
    }
   ],
   "source": [
    "\n",
    "from ipywidgets import interact, interactive, fixed, interact_manual\n",
    "\n",
    "\n",
    "import math\n",
    "import numpy as np\n",
    "import scipy as sc\n",
    "import matplotlib.pyplot as plt\n",
    "import os\n",
    "import control\n",
    "\n",
    "K_PS = 1 #Strecke Übertragungskonstante\n",
    "T_S  = 1 #Strecke Zeitkonstante\n",
    "\n",
    "@interact(K_PR=(0.1,2.5,0.1),  T_N=(0.1,1,0.1), T_V=(0.0,1,0.05))\n",
    "def f(K_PR=1/K_PS, T_N=0.66*T_S, T_V=0.167*T_S):\n",
    "    controller = control.tf([K_PR*T_N*T_V, K_PR*T_N, K_PR], [T_N, 0])\n",
    "    plant = control.tf([K_PS], [T_S, 1])\n",
    "    primary =  control.series(controller, plant)\n",
    "    feedback = control.tf([1], [1])\n",
    "    sys= control.feedback(primary, feedback, -1)\n",
    "    (t, y) = control.step_response(sys)\n",
    "    plt.plot(t, y)\n",
    "    plt.ylim([0, 1.5])\n",
    "    plt.xlim([-0.2, 5])\n",
    "    plt.title('Step response')\n",
    "    plt.grid()\n",
    "    plt.show()\n",
    "    return;\n"
   ]
  }
 ],
 "metadata": {
  "kernelspec": {
   "display_name": "Python 3 (ipykernel)",
   "language": "python",
   "name": "python3"
  },
  "language_info": {
   "codemirror_mode": {
    "name": "ipython",
    "version": 3
   },
   "file_extension": ".py",
   "mimetype": "text/x-python",
   "name": "python",
   "nbconvert_exporter": "python",
   "pygments_lexer": "ipython3",
   "version": "3.10.6"
  },
  "vscode": {
   "interpreter": {
    "hash": "369f2c481f4da34e4445cda3fffd2e751bd1c4d706f27375911949ba6bb62e1c"
   }
  }
 },
 "nbformat": 4,
 "nbformat_minor": 4
}
