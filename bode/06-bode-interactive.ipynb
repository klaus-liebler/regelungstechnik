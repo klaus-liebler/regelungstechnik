{
 "cells": [
  {
   "cell_type": "markdown",
   "metadata": {},
   "source": [
    "# Bode Interaktiv"
   ]
  },
  {
   "cell_type": "code",
   "execution_count": 3,
   "metadata": {},
   "outputs": [
    {
     "data": {
      "application/vnd.jupyter.widget-view+json": {
       "model_id": "4de929e4f5174087b8d4b5a9f897ebc3",
       "version_major": 2,
       "version_minor": 0
      },
      "text/plain": [
       "interactive(children=(FloatSlider(value=0.6, description='d', max=1.2, min=0.1), Output()), _dom_classes=('wid…"
      ]
     },
     "metadata": {},
     "output_type": "display_data"
    }
   ],
   "source": [
    "import numpy as np\n",
    "import control\n",
    "from control.matlab import *\n",
    "import matplotlib.pyplot as plt\n",
    "from ipywidgets import interact, interactive, fixed, interact_manual\n",
    "\n",
    "@interact(d=(0.1,1.2,0.1))\n",
    "def f(d=0.6):\n",
    "    den  = np.array([1,2*d, 1])\n",
    "    print(\"d = %3.2f, Pole = %s \" %(d,str(np.roots(den))) )\n",
    "    pt2 = tf(1,den)\n",
    "    y, t = control.matlab.step(pt2)\n",
    "    plt.plot(t,y)\n",
    "    plt.title('P-T2s Batch')\n",
    "    plt.xlabel('t [s]'); plt.ylabel('h(t)')    \n",
    "    plt.grid()\n",
    "    plt.figure()\n",
    "    pzmap(pt2)\n",
    "    plt.grid()\n",
    "    mag, phase, w = control.matlab.bode(pt2)"
   ]
  }
 ],
 "metadata": {
  "interpreter": {
   "hash": "63fd5069d213b44bf678585dea6b12cceca9941eaf7f819626cde1f2670de90d"
  },
  "kernelspec": {
   "display_name": "Python 3.9.7 64-bit",
   "language": "python",
   "name": "python3"
  },
  "language_info": {
   "codemirror_mode": {
    "name": "ipython",
    "version": 3
   },
   "file_extension": ".py",
   "mimetype": "text/x-python",
   "name": "python",
   "nbconvert_exporter": "python",
   "pygments_lexer": "ipython3",
   "version": "3.9.7"
  },
  "orig_nbformat": 4
 },
 "nbformat": 4,
 "nbformat_minor": 2
}
