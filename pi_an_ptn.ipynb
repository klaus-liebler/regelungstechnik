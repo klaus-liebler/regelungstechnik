{
 "cells": [
  {
   "cell_type": "markdown",
   "metadata": {},
   "source": [
    "# PI-Regler an PT2-Strecke"
   ]
  },
  {
   "cell_type": "code",
   "execution_count": 1,
   "metadata": {},
   "outputs": [
    {
     "data": {
      "application/vnd.jupyter.widget-view+json": {
       "model_id": "c3e053047b2a419999205b20ee4f663a",
       "version_major": 2,
       "version_minor": 0
      },
      "text/plain": [
       "interactive(children=(FloatSlider(value=0.4166666666666667, description='Kc', max=3.0, min=0.1), IntSlider(val…"
      ]
     },
     "metadata": {},
     "output_type": "display_data"
    }
   ],
   "source": [
    "import numpy as np\n",
    "import matplotlib.pyplot as plt\n",
    "from ipywidgets import interact, interactive, fixed, interact_manual\n",
    "from scipy.integrate import odeint\n",
    "\n",
    "# animate plolspace?\n",
    "animate=True # True / False\n",
    "\n",
    "########## vehicle dynamics define ####### \n",
    "def vehicle(v,t,u,load):\n",
    "    # inpulspace\n",
    "    #  v    = vehicle velocity (m/s)\n",
    "    #  t    = time (sec)\n",
    "    #  u    = gas pedal position (-50% to 100%)\n",
    "    #  load = passenger load + cargo (kg)\n",
    "    Cd = 0.24    # drag coefficient\n",
    "    rho = 1.225  # air density (kg/m^3)\n",
    "    A = 5.0      # cross-sectional area (m^2)\n",
    "    Fp = 30      # thrust parameter (N/%pedal)\n",
    "    m = 500      # vehicle mass (kg)\n",
    "\n",
    "    # calculate derivative of the velocity\n",
    "    dv_dt = (1.0/(m+load)) * (Fp*u - 0.5*rho*Cd*A*v**2)\n",
    "    return dv_dt\n",
    "\n",
    "\n",
    "\n",
    "\n",
    "@interact(Kc=(0.1,3,0.1),  tauI=(10,100,5))\n",
    "def f(Kc=1/1.2*0.5, tauI=0):\n",
    "        \n",
    "    ######## simulation #######################\n",
    "    tf = 300.0                    # final time for simulation\n",
    "    nsteps = 951                  # number of time steps\n",
    "    delta_t = tf/(nsteps-1)       # how long is each time step?\n",
    "    lspace = np.linspace(0,tf,nsteps) # linearly spaced time vector\n",
    "\n",
    "    ######### simulate step test operation ###########\n",
    "    step = np.zeros(nsteps) # u = valve % open\n",
    "    step[11:] = 50.0        # step up pedal position\n",
    "    load = 200.0            #passenger(s) + cargo load kg\n",
    "\n",
    "    ########### velocity initial condition ###########\n",
    "    v0 = 0.0\n",
    "    vs = np.zeros(nsteps)\n",
    "\n",
    "    ############## PI Parameters ##################### \n",
    "    ubias=0.0                                        #\n",
    "    #Kc =1.0/1.2*0.5  #K gain constant                #\n",
    "    #tauI=40.0                                        #                   \n",
    "    sum_int=0.0                                      #\n",
    "    reset_windup=0.0 #Anti-Reset Windup              #\n",
    "    ##################################################\n",
    "\n",
    "    ######## for storing the resullspace ################\n",
    "    es=np.zeros(nsteps)\n",
    "    ies=np.zeros(nsteps)\n",
    "    sps = np.zeros(nsteps)\n",
    "\n",
    "    sp = 25.0 # set point\n",
    "\n",
    "    ################## simulate with ODEINT ##########\n",
    "    for i in range(nsteps-1):\n",
    "        #change the set point to any value within the range \n",
    "        # if i ==200:\n",
    "        #     sp=0\n",
    "        # if i ==30000:\n",
    "        #     sp=17\n",
    "        # if i ==150:\n",
    "        #     sp=20\n",
    "        if i ==400:\n",
    "            sp=15\n",
    "\n",
    "    ############ PI Loop controller #################                                                                   \n",
    "        sps[i+1] = sp                               #          \n",
    "        error =sp-v0                                # \n",
    "        es[i+1]=error                               #\n",
    "        sum_int=sum_int+error+delta_t               #  \n",
    "        # u=ubias+Kc+error+Kc/tauI*sum_int          #   \n",
    "        reset_windup = reset_windup+Kc/tauI*error   #       \n",
    "        u=Kc+error+reset_windup                     #  \n",
    "    #################################################\n",
    "\n",
    "    ######## clip inpulspace to -50% to 100%  ##########\n",
    "        if u >= 100.0:\n",
    "            u = 100.0\n",
    "            sum_int = sum_int-error * delta_t\n",
    "        if u <= -50.0:\n",
    "            u = -50.0\n",
    "            sum_int = sum_int-error * delta_t\n",
    "        ies[i+1]=sum_int\n",
    "        step[i+1]=u\n",
    "        v = odeint(vehicle,v0,[0,delta_t],args=(u,load))\n",
    "        v0 = v[-1]   # take the last value\n",
    "        vs[i+1] = v0 # store the velocity for plotting\n",
    "\n",
    "    #################### plot resullspace ###################\n",
    "\n",
    "    fig, (ax1, ax2, ax3, ax4) = plt.subplots(4,1)\n",
    "    fig.subplots_adjust(hspace=0.5)\n",
    "    fig.set_figwidth(30)\n",
    "    fig.set_figheight(15)\n",
    "    ax1.plot(lspace,vs,'b-',linewidth=3)\n",
    "    ax1.plot(lspace,sps,'k--',linewidth=2)\n",
    "    ax1.set_ylabel('Velocity (m/s)')\n",
    "    ax1.legend(['Velocity','Set Point'],loc='best')\n",
    "    ax2.plot(lspace,step,'r--',linewidth=3)\n",
    "    ax2.set_ylabel('Gas Pedal')    \n",
    "    ax2.legend(['Gas Pedal (%)'],loc='best')\n",
    "    ax3.plot(lspace,es,'b--',linewidth=3)\n",
    "    ax3.legend(['Error (SP-PV)'])\n",
    "    ax3.set_xlabel('Time (sec)')   \n",
    "    ax4.plot(lspace,ies,'k--',linewidth=3)\n",
    "    ax4.legend(['Intergral of Error'])\n",
    "    ax4.set_xlabel('Time (sec)')   \n",
    "    plt.show()\n",
    "    return;\n"
   ]
  }
 ],
 "metadata": {
  "kernelspec": {
   "display_name": "Python 3.10.4 64-bit",
   "language": "python",
   "name": "python3"
  },
  "language_info": {
   "codemirror_mode": {
    "name": "ipython",
    "version": 3
   },
   "file_extension": ".py",
   "mimetype": "text/x-python",
   "name": "python",
   "nbconvert_exporter": "python",
   "pygments_lexer": "ipython3",
   "version": "3.10.6"
  },
  "orig_nbformat": 4,
  "vscode": {
   "interpreter": {
    "hash": "369f2c481f4da34e4445cda3fffd2e751bd1c4d706f27375911949ba6bb62e1c"
   }
  }
 },
 "nbformat": 4,
 "nbformat_minor": 2
}
