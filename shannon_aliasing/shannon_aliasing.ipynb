{
 "cells": [
  {
   "cell_type": "markdown",
   "metadata": {},
   "source": [
    "# Das Shannon-Theorem"
   ]
  },
  {
   "cell_type": "code",
   "execution_count": 5,
   "metadata": {},
   "outputs": [
    {
     "data": {
      "application/vnd.jupyter.widget-view+json": {
       "model_id": "b9e9ee78c43a4a848a31d8eb31ca5baf",
       "version_major": 2,
       "version_minor": 0
      },
      "text/plain": [
       "interactive(children=(IntSlider(value=600, description='f_sample', max=1000, min=100, step=20), Output()), _do…"
      ]
     },
     "metadata": {},
     "output_type": "display_data"
    }
   ],
   "source": [
    "\n",
    "import matplotlib.pyplot as plt\n",
    "from ipywidgets import interact, interactive, fixed, interact_manual\n",
    "import numpy as np\n",
    "import scipy as sc\n",
    "plt.style.use('ggplot')\n",
    "\n",
    "\n",
    "\n",
    "\n",
    "@interact(f_sample=(100,1000,20))\n",
    "def f(f_sample=600):\n",
    "\n",
    "    t_span = (0.0, 0.1)\n",
    "    f_sim = 10000\n",
    "    t_sim_vect = np.arange(t_span[0], t_span[1], 1/f_sim)\n",
    "\n",
    "    #define sampling\n",
    "    #f_sample =500\n",
    "    t_sample_vect = np.arange(t_span[0]+0.003, t_span[1]+0.003, 1/f_sample)\n",
    "\n",
    "\n",
    "    # signal information\n",
    "    f_sig = 100 # in hertz, the desired natural frequency\n",
    "\n",
    "    plt.plot(t_sim_vect, np.sin(2*np.pi*f_sig*t_sim_vect))\n",
    "    plt.plot(t_sample_vect,np.sin(2*np.pi*f_sig*t_sample_vect), marker=\"o\")\n",
    "    plt.show()"
   ]
  }
 ],
 "metadata": {
  "kernelspec": {
   "display_name": "Python 3.10.6 64-bit",
   "language": "python",
   "name": "python3"
  },
  "language_info": {
   "codemirror_mode": {
    "name": "ipython",
    "version": 3
   },
   "file_extension": ".py",
   "mimetype": "text/x-python",
   "name": "python",
   "nbconvert_exporter": "python",
   "pygments_lexer": "ipython3",
   "version": "3.10.6"
  },
  "orig_nbformat": 4,
  "vscode": {
   "interpreter": {
    "hash": "369f2c481f4da34e4445cda3fffd2e751bd1c4d706f27375911949ba6bb62e1c"
   }
  }
 },
 "nbformat": 4,
 "nbformat_minor": 2
}
