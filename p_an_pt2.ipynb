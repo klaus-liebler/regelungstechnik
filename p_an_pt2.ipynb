{
 "cells": [
  {
   "cell_type": "markdown",
   "metadata": {},
   "source": [
    "# P-Regler an PT2-Strecke"
   ]
  },
  {
   "cell_type": "code",
   "execution_count": 1,
   "metadata": {},
   "outputs": [
    {
     "data": {
      "application/vnd.jupyter.widget-view+json": {
       "model_id": "a347b26d8532405d89c26875b47026ee",
       "version_major": 2,
       "version_minor": 0
      },
      "text/plain": [
       "interactive(children=(FloatSlider(value=2.0, description='K_PR', max=5.0, min=0.1), Output()), _dom_classes=('…"
      ]
     },
     "metadata": {},
     "output_type": "display_data"
    }
   ],
   "source": [
    "\n",
    "from ipywidgets import interact, interactive, fixed, interact_manual\n",
    "\n",
    "\n",
    "import math\n",
    "import numpy as np\n",
    "import scipy as sc\n",
    "import matplotlib.pyplot as plt\n",
    "import os\n",
    "import control\n",
    "\n",
    "K_PS=1 #Übertragungskonstante\n",
    "T = 1 #Zeitkonstante\n",
    "D = 0.7 #Dämpfung\n",
    "\n",
    "\n",
    "\n",
    "@interact(K_PR=(0.1,5,0.1))\n",
    "def f(K_PR=2):\n",
    "    controller = control.tf([K_PR], [1])\n",
    "    plant = control.tf([K_PS], [T*T, 2*D*T, 1])\n",
    "    forward =  control.series(controller, plant)\n",
    "    feedback = control.tf([1], [1])\n",
    "    sys= control.feedback(forward, feedback, -1)\n",
    "    (t, y) = control.step_response(sys)\n",
    "    plt.plot(t, y)\n",
    "    plt.ylim([0, 1.5])\n",
    "    plt.xlim([0, 10])\n",
    "    plt.title('Step response')\n",
    "    plt.grid()\n",
    "    plt.show()\n",
    "    return;\n"
   ]
  }
 ],
 "metadata": {
  "kernelspec": {
   "display_name": "Python 3 (ipykernel)",
   "language": "python",
   "name": "python3"
  },
  "language_info": {
   "codemirror_mode": {
    "name": "ipython",
    "version": 3
   },
   "file_extension": ".py",
   "mimetype": "text/x-python",
   "name": "python",
   "nbconvert_exporter": "python",
   "pygments_lexer": "ipython3",
   "version": "3.10.6"
  },
  "vscode": {
   "interpreter": {
    "hash": "369f2c481f4da34e4445cda3fffd2e751bd1c4d706f27375911949ba6bb62e1c"
   }
  }
 },
 "nbformat": 4,
 "nbformat_minor": 4
}
