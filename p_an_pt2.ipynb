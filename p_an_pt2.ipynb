{
 "cells": [
  {
   "attachments": {},
   "cell_type": "markdown",
   "metadata": {},
   "source": [
    "# P-Regler an PT2-Strecke"
   ]
  },
  {
   "cell_type": "code",
   "execution_count": 87,
   "metadata": {},
   "outputs": [
    {
     "data": {
      "application/vnd.jupyter.widget-view+json": {
       "model_id": "96dad5e475fa413a846cf9b0053b2d28",
       "version_major": 2,
       "version_minor": 0
      },
      "text/plain": [
       "interactive(children=(FloatSlider(value=2.0, description='K_PR', max=5.0, min=0.1), Output()), _dom_classes=('…"
      ]
     },
     "metadata": {},
     "output_type": "display_data"
    }
   ],
   "source": [
    "\n",
    "from ipywidgets import interact, interactive, fixed, interact_manual, Button\n",
    "import ipywidgets as w\n",
    "\n",
    "import math\n",
    "import numpy as np\n",
    "import scipy as sc\n",
    "import matplotlib.pyplot as plt\n",
    "import os\n",
    "import control\n",
    "\n",
    "\n",
    "K_PS=1 #Übertragungskonstante\n",
    "T = 1 #Zeitkonstante\n",
    "D = 0.7 #Dämpfung\n",
    "\n",
    "response = ([],[])\n",
    "\n",
    "@interact(K_PR=(0.1,5,0.1))\n",
    "def f(K_PR=2):\n",
    "    global response\n",
    "    controller = control.tf([K_PR], [1])\n",
    "    plant = control.tf([K_PS], [T*T, 2*D*T, 1])\n",
    "    forward =  control.series(controller, plant)\n",
    "    feedback = control.tf([1], [1])\n",
    "    sys= control.feedback(forward, feedback, -1)\n",
    "    response = control.step_response(sys)\n",
    "    plt.plot(response[0], response[1])\n",
    "    plt.ylim([0, 1.5])\n",
    "    plt.xlim([0, 10])\n",
    "    plt.title('Step response')\n",
    "    plt.grid()\n",
    "    plt.show()\n",
    "    return;\n"
   ]
  },
  {
   "cell_type": "code",
   "execution_count": 85,
   "metadata": {},
   "outputs": [
    {
     "data": {
      "application/vnd.jupyter.widget-view+json": {
       "model_id": "cc3532869d31458abd4c9fc92f79f0cc",
       "version_major": 2,
       "version_minor": 0
      },
      "text/plain": [
       "Button(description='Export to Excel', style=ButtonStyle())"
      ]
     },
     "metadata": {},
     "output_type": "display_data"
    }
   ],
   "source": [
    "import openpyxl as xls\n",
    "def btnExport_on_click(b):\n",
    "       wb = xls.Workbook()\n",
    "       ws = wb.active\n",
    "       ws.append([\"Time\", \"Response\"])\n",
    "       for i in range(len(response.t)):\n",
    "              ws.append([response.t[i], response.y[0][0][i]])\n",
    "       chart = xls.chart.ScatterChart()\n",
    "       chart.style = 2\n",
    "       chart.x_axis.title = 'Zeit [s]'\n",
    "       chart.y_axis.title = 'y [1]'\n",
    "       xvalues = xls.chart.Reference(ws, min_col=1, min_row=2, max_row=1+len(response.t))\n",
    "       values  = xls.chart.Reference(ws, min_col=2, min_row=1, max_row=1+len(response.t))\n",
    "       series = xls.chart.Series(values, xvalues, title_from_data=True)\n",
    "       chart.series.append(series)\n",
    "       chart.x_axis.scaling.min = 0\n",
    "       chart.x_axis.scaling.max = 10\n",
    "       chart.title = \"\"\n",
    "       ws.add_chart(chart, \"D1\")\n",
    "       wb.save(\"sample.xlsx\") \n",
    "btnExport = w.Button(description='Export to Excel')\n",
    "btnExport.on_click(btnExport_on_click)\n",
    "display(btnExport)"
   ]
  }
 ],
 "metadata": {
  "kernelspec": {
   "display_name": "Python 3 (ipykernel)",
   "language": "python",
   "name": "python3"
  },
  "language_info": {
   "codemirror_mode": {
    "name": "ipython",
    "version": 3
   },
   "file_extension": ".py",
   "mimetype": "text/x-python",
   "name": "python",
   "nbconvert_exporter": "python",
   "pygments_lexer": "ipython3",
   "version": "3.10.6"
  },
  "vscode": {
   "interpreter": {
    "hash": "369f2c481f4da34e4445cda3fffd2e751bd1c4d706f27375911949ba6bb62e1c"
   }
  }
 },
 "nbformat": 4,
 "nbformat_minor": 4
}
