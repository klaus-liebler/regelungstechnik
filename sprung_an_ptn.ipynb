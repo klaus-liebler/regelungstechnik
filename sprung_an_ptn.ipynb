{
 "cells": [
  {
   "attachments": {},
   "cell_type": "markdown",
   "metadata": {},
   "source": [
    "# Sprungantwort einer PT2-Strecke"
   ]
  },
  {
   "cell_type": "code",
   "execution_count": 1,
   "metadata": {},
   "outputs": [
    {
     "data": {
      "application/vnd.jupyter.widget-view+json": {
       "model_id": "9ca987b1db8d4f42913352d9ae5da29b",
       "version_major": 2,
       "version_minor": 0
      },
      "text/plain": [
       "interactive(children=(FloatSlider(value=1.0, description='T', max=4.0, min=0.5), IntSlider(value=1, descriptio…"
      ]
     },
     "metadata": {},
     "output_type": "display_data"
    }
   ],
   "source": [
    "\n",
    "import matplotlib.pyplot as plt\n",
    "from ipywidgets import interact, interactive, fixed, interact_manual\n",
    "import numpy as np\n",
    "import scipy as sc\n",
    "import control\n",
    "\n",
    "plt.rcParams[\"figure.figsize\"] = (15,6)\n",
    "\n",
    "# animate plolspace?\n",
    "animate=True # True / False\n",
    "\n",
    "\n",
    "@interact(T=(0.5,4,0.1), N=(1,10,1))\n",
    "def f(T=1, N=1):\n",
    "    K=1\n",
    "    pt1 = control.TransferFunction([K], [T,1])\n",
    "    sys = control.TransferFunction([K], [T,1])\n",
    "    t, y = control.step_response(sys, T=20)\n",
    "    plt.plot(t, y)\n",
    "    for n in range(N-1):\n",
    "        sys =  control.series(sys, pt1)\n",
    "        t, y = control.step_response(sys, T=20)\n",
    "        plt.plot(t, y)\n",
    "\n",
    "    plt.xlabel('Time [s]')\n",
    "    plt.ylabel('Amplitude')\n",
    "    plt.title('Step response')\n",
    "    plt.grid()\n",
    "    plt.show()     \n",
    "    return;\n"
   ]
  }
 ],
 "metadata": {
  "kernelspec": {
   "display_name": "Python 3 (ipykernel)",
   "language": "python",
   "name": "python3"
  },
  "language_info": {
   "codemirror_mode": {
    "name": "ipython",
    "version": 3
   },
   "file_extension": ".py",
   "mimetype": "text/x-python",
   "name": "python",
   "nbconvert_exporter": "python",
   "pygments_lexer": "ipython3",
   "version": "3.10.6"
  },
  "vscode": {
   "interpreter": {
    "hash": "369f2c481f4da34e4445cda3fffd2e751bd1c4d706f27375911949ba6bb62e1c"
   }
  }
 },
 "nbformat": 4,
 "nbformat_minor": 4
}
